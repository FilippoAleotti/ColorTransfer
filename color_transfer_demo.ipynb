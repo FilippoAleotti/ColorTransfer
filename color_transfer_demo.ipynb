{
  "nbformat": 4,
  "nbformat_minor": 0,
  "metadata": {
    "colab": {
      "name": "color_transfer_demo.ipynb",
      "provenance": [],
      "collapsed_sections": []
    },
    "kernelspec": {
      "name": "python3",
      "display_name": "Python 3"
    }
  },
  "cells": [
    {
      "cell_type": "markdown",
      "metadata": {
        "id": "VsRNFPiSFx0K"
      },
      "source": [
        "# Numpy implementation of Reinhard et al Color Transfer\n",
        "\n",
        "Implementing the color transfer technique described in [Reinhard et al](https://ieeexplore.ieee.org/document/946629)\n"
      ]
    },
    {
      "cell_type": "code",
      "metadata": {
        "id": "OOW5jZNjpDnA"
      },
      "source": [
        "# Copyright 2020 Filippo Aleotti\n",
        "#\n",
        "# Licensed under the Apache License, Version 2.0 (the \"License\");\n",
        "# you may not use this file except in compliance with the License.\n",
        "# You may obtain a copy of the License at\n",
        "#\n",
        "#     http://www.apache.org/licenses/LICENSE-2.0\n",
        "#\n",
        "# Unless required by applicable law or agreed to in writing, software\n",
        "# distributed under the License is distributed on an \"AS IS\" BASIS,\n",
        "# WITHOUT WARRANTIES OR CONDITIONS OF ANY KIND, either express or implied.\n",
        "# See the License for the specific language governing permissions and\n",
        "# limitations under the License.\n",
        "\n",
        "import cv2\n",
        "import numpy as np\n",
        "import urllib.request as urllib\n",
        "from matplotlib import pyplot as plt"
      ],
      "execution_count": 1,
      "outputs": []
    },
    {
      "cell_type": "code",
      "metadata": {
        "id": "qqlIyNcRpOaa"
      },
      "source": [
        "def std(x: np.array) -> np.array:\n",
        "    \"\"\"Get std of vector x, with shape Nx3\n",
        "    Params:\n",
        "        x: Nx3 array, containing the difference wrt the mean value\n",
        "    \"\"\"\n",
        "    num_elements = x.shape[0]\n",
        "    std_list = []\n",
        "    for i in range(3):\n",
        "        std_squared = (x[:, i] ** 2).sum() / num_elements\n",
        "        std = np.sqrt(std_squared)\n",
        "        std_list.append(std)\n",
        "    return np.array(std_list)\n",
        "\n",
        "\n",
        "def mean(x: np.array) -> np.array:\n",
        "    \"\"\"Get the mean along each axis of vector x, with shape Nx3\n",
        "    Params:\n",
        "        x: Nx3 array\n",
        "    \"\"\"\n",
        "    num_elements = x.shape[0]\n",
        "    mean_list = []\n",
        "    for i in range(3):\n",
        "        mean = x[:, i].sum() / num_elements\n",
        "        mean_list.append(mean)\n",
        "    return np.array(mean_list)\n",
        "\n",
        "\n",
        "def to_LAB(rgb: np.array) -> np.array:\n",
        "    \"\"\"From RGB space to LAB space\"\"\"\n",
        "    to_lms_matrix = np.array(\n",
        "        [[0.3811, 0.5783, 0.0402], [0.1967, 0.7244, 0.0782], [0.0241, 0.1288, 0.8444]]\n",
        "    )\n",
        "    to_lab_first_matrix = np.diag(np.array([0.57735027, 0.40824829, 0.70710678]))\n",
        "\n",
        "    to_lab_second_matrix = np.ones((3, 3), dtype=np.float32)\n",
        "    to_lab_second_matrix[1, 2] = -2\n",
        "    to_lab_second_matrix[2, 1] = -1\n",
        "    to_lab_second_matrix[2, 2] = 0\n",
        "\n",
        "    to_lms = lambda x: to_lms_matrix.dot(x)\n",
        "    lms = np.apply_along_axis(to_lms, 1, rgb)\n",
        "\n",
        "    to_log = lambda t: np.log10(t + np.finfo(np.float32).eps)\n",
        "    lms_log = np.apply_along_axis(to_log, 1, lms)\n",
        "\n",
        "    to_lab = lambda x: to_lab_first_matrix.dot(to_lab_second_matrix.dot(x))\n",
        "    lab = np.apply_along_axis(to_lab, 1, lms_log)\n",
        "\n",
        "    return lab\n",
        "\n",
        "\n",
        "def to_RGB(lab: np.array) -> np.array:\n",
        "    \"\"\"From LAB space to RGB\"\"\"\n",
        "    to_rgb_matrix = np.array(\n",
        "        [\n",
        "            [4.4679, -3.5873, 0.1193],\n",
        "            [-1.2186, 2.3809, -0.1624],\n",
        "            [0.0497, -0.2439, 1.2045],\n",
        "        ]\n",
        "    )\n",
        "    to_log_lms_first_matrix = np.ones((3, 3), dtype=np.float32)\n",
        "    to_log_lms_first_matrix[1, 2] = -1\n",
        "    to_log_lms_first_matrix[2, 1] = -2\n",
        "    to_log_lms_first_matrix[2, 2] = 0\n",
        "    to_log_lms_second_matrix = np.diag(np.array([0.57735027, 0.40824829, 0.70710678]))\n",
        "\n",
        "    to_log_lms = lambda x: to_log_lms_first_matrix.dot(to_log_lms_second_matrix.dot(x))\n",
        "    log_lms = np.apply_along_axis(to_log_lms, 1, lab)\n",
        "\n",
        "    to_lms = lambda t: np.power(10, t)\n",
        "    lms = np.apply_along_axis(to_lms, 1, log_lms)\n",
        "    to_rgb = lambda x: to_rgb_matrix.dot(x)\n",
        "    rgb = np.apply_along_axis(to_rgb, 1, lms)\n",
        "\n",
        "    return rgb\n",
        "\n",
        "\n",
        "def color_transfer(src: np.array, tgt: np.array) -> np.array:\n",
        "    \"\"\"Apply color transfer from tgt to src image\n",
        "    Params:\n",
        "        src: HxWx3 RGB array with src image\n",
        "        tgt: HxWx3 RGB array with tgt image\n",
        "    Return:\n",
        "        HxWx3 RGB image. Pixels from src have colors aligned with\n",
        "        with tgt\n",
        "    \"\"\"\n",
        "    h, w = src.shape[:2]\n",
        "    src = np.reshape(src, (-1, 3))\n",
        "    tgt = np.reshape(tgt, (-1, 3))\n",
        "\n",
        "    src_lab = to_LAB(src)\n",
        "    tgt_lab = to_LAB(tgt)\n",
        "\n",
        "    src_mean_lab = mean(src_lab)\n",
        "    tgt_mean_lab = mean(tgt_lab)\n",
        "\n",
        "    src_lab_star = src_lab - src_mean_lab\n",
        "    tgt_lab_star = tgt_lab - tgt_mean_lab\n",
        "\n",
        "    src_lab_std = std(src_lab_star)\n",
        "    tgt_lab_std = std(tgt_lab_star)\n",
        "\n",
        "    new_src = src_lab_star * (tgt_lab_std / src_lab_std)\n",
        "    new_src += tgt_mean_lab\n",
        "\n",
        "    transformed = to_RGB(new_src)\n",
        "    transformed = np.reshape(transformed, (h, w, 3))\n",
        "    transformed[transformed > 255.0] = 255.0\n",
        "    transformed[transformed < 0.0] = 0.0\n",
        "    transformed = transformed.astype(np.uint8)\n",
        "\n",
        "    return transformed"
      ],
      "execution_count": 2,
      "outputs": []
    },
    {
      "cell_type": "code",
      "metadata": {
        "id": "flxy7acLo4fC",
        "colab": {
          "base_uri": "https://localhost:8080/"
        },
        "outputId": "06af6182-3194-4d3f-fb01-d096464a406d"
      },
      "source": [
        "url_src = \"https://encrypted-tbn0.gstatic.com/images?q=tbn%3AANd9GcQOoM4koKErzN12EKS0BCoK9UW9waVgM5vIDA&usqp=CAU\"\n",
        "resp = urllib.urlopen(url_src)\n",
        "image = np.asarray(bytearray(resp.read()), dtype=np.uint8)\n",
        "src = cv2.imdecode(image, cv2.IMREAD_COLOR)\n",
        "\n",
        "url_tgt = \"https://encrypted-tbn0.gstatic.com/images?q=tbn%3AANd9GcQDFXLZOhschjWJGvwe4hbdkdNQ2RjNWojE6A&usqp=CAU\"\n",
        "resp = urllib.urlopen(url_tgt)\n",
        "image = np.asarray(bytearray(resp.read()), dtype=np.uint8)\n",
        "tgt = cv2.imdecode(image, cv2.IMREAD_COLOR)\n",
        "\n",
        "if src.shape != tgt.shape:\n",
        "  tgt = cv2.resize(tgt, (src.shape[1], src.shape[0]))\n",
        "\n",
        "# opencv handles images as BGR. \n",
        "# Instead, plt uses RGB color convention\n",
        "src_rgb = cv2.cvtColor(src, cv2.COLOR_BGR2RGB)\n",
        "tgt_rgb = cv2.cvtColor(tgt, cv2.COLOR_BGR2RGB)\n",
        "\n",
        "grid = np.hstack((src_rgb, tgt_rgb))\n",
        "plt.imshow(grid)"
      ],
      "execution_count": null,
      "outputs": [
        {
          "output_type": "execute_result",
          "data": {
            "text/plain": [
              "<matplotlib.image.AxesImage at 0x7f828118a828>"
            ]
          },
          "metadata": {
            "tags": []
          },
          "execution_count": 3
        }
      ]
    },
    {
      "cell_type": "markdown",
      "metadata": {
        "id": "baUJ6gw6rnjm"
      },
      "source": [
        "We aim to change colors of source image using those of target image as reference."
      ]
    },
    {
      "cell_type": "code",
      "metadata": {
        "id": "0jF9MZ3TrxmV"
      },
      "source": [
        "transformed = color_transfer(src_rgb, tgt_rgb)"
      ],
      "execution_count": null,
      "outputs": []
    },
    {
      "cell_type": "markdown",
      "metadata": {
        "id": "IK6Yl5HEr_iS"
      },
      "source": [
        "Have a look at the result"
      ]
    },
    {
      "cell_type": "code",
      "metadata": {
        "id": "EGiLbmIasDsl"
      },
      "source": [
        "grid = np.hstack((src_rgb, tgt_rgb, transformed))\n",
        "plt.imshow(grid)"
      ],
      "execution_count": null,
      "outputs": []
    }
  ]
}